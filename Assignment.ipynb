{
  "nbformat": 4,
  "nbformat_minor": 0,
  "metadata": {
    "colab": {
      "provenance": []
    },
    "kernelspec": {
      "name": "python3",
      "display_name": "Python 3"
    },
    "language_info": {
      "name": "python"
    }
  },
  "cells": [
    {
      "cell_type": "markdown",
      "source": [
        "最終課題提出用ファイル"
      ],
      "metadata": {
        "id": "lDrFt8rjubZt"
      }
    },
    {
      "cell_type": "code",
      "source": [
        "import numpy as np\n",
        "import matplotlib.pyplot as plt\n",
        "import cv2"
      ],
      "metadata": {
        "id": "dDy0HE43umfi"
      },
      "execution_count": null,
      "outputs": []
    },
    {
      "cell_type": "markdown",
      "source": [
        "**問１**下のセルにセルに解答してください"
      ],
      "metadata": {
        "id": "cIWHgP7EulOV"
      }
    },
    {
      "cell_type": "code",
      "execution_count": null,
      "metadata": {
        "id": "vLbJJjyEuYB8"
      },
      "outputs": [],
      "source": []
    },
    {
      "cell_type": "code",
      "source": [],
      "metadata": {
        "id": "HUqN5uaWvIFV"
      },
      "execution_count": null,
      "outputs": []
    },
    {
      "cell_type": "code",
      "source": [],
      "metadata": {
        "id": "fkosMPFmvKpW"
      },
      "execution_count": null,
      "outputs": []
    },
    {
      "cell_type": "markdown",
      "source": [
        "**問２**下のセルにセルに解答してください"
      ],
      "metadata": {
        "id": "hO_ppEh8ukRP"
      }
    },
    {
      "cell_type": "code",
      "source": [],
      "metadata": {
        "id": "mZpVhBHLui1p"
      },
      "execution_count": null,
      "outputs": []
    },
    {
      "cell_type": "code",
      "source": [],
      "metadata": {
        "id": "G9PWUs8AvIcJ"
      },
      "execution_count": null,
      "outputs": []
    },
    {
      "cell_type": "code",
      "source": [],
      "metadata": {
        "id": "2xRgM2zXvLFO"
      },
      "execution_count": null,
      "outputs": []
    },
    {
      "cell_type": "markdown",
      "source": [
        "**問３**下のセルにセルに解答してください"
      ],
      "metadata": {
        "id": "LH3Gh14LuzIG"
      }
    },
    {
      "cell_type": "code",
      "source": [],
      "metadata": {
        "id": "gJWSTWK2uiqC"
      },
      "execution_count": null,
      "outputs": []
    },
    {
      "cell_type": "code",
      "source": [],
      "metadata": {
        "id": "P3Emxw47vIxz"
      },
      "execution_count": null,
      "outputs": []
    },
    {
      "cell_type": "code",
      "source": [],
      "metadata": {
        "id": "8G8kNg7AvLi6"
      },
      "execution_count": null,
      "outputs": []
    },
    {
      "cell_type": "markdown",
      "source": [
        "**問４**下のセルにセルに解答してください"
      ],
      "metadata": {
        "id": "1UwL1L6ou1b6"
      }
    },
    {
      "cell_type": "code",
      "source": [],
      "metadata": {
        "id": "rhIiDlTHu3Ri"
      },
      "execution_count": null,
      "outputs": []
    },
    {
      "cell_type": "code",
      "source": [],
      "metadata": {
        "id": "uM2aFfxpvJJs"
      },
      "execution_count": null,
      "outputs": []
    },
    {
      "cell_type": "code",
      "source": [],
      "metadata": {
        "id": "rnOH9W2ovL5A"
      },
      "execution_count": null,
      "outputs": []
    }
  ]
}