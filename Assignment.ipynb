{
  "nbformat": 4,
  "nbformat_minor": 0,
  "metadata": {
    "colab": {
      "provenance": []
    },
    "kernelspec": {
      "name": "python3",
      "display_name": "Python 3"
    },
    "language_info": {
      "name": "python"
    }
  },
  "cells": [
    {
      "cell_type": "markdown",
      "source": [
        "最終課題提出用ファイル"
      ],
      "metadata": {
        "id": "lDrFt8rjubZt"
      }
    },
    {
      "cell_type": "code",
      "source": [
        "import numpy as np\n",
        "import matplotlib.pyplot as plt\n",
        "import cv2"
      ],
      "metadata": {
        "id": "dDy0HE43umfi"
      },
      "execution_count": null,
      "outputs": []
    },
    {
      "cell_type": "markdown",
      "source": [
        "**名前：**"
      ],
      "metadata": {
        "id": "ZpeUcRcAwjtD"
      }
    },
    {
      "cell_type": "markdown",
      "source": [
        "**問１**下のセルに解答してください"
      ],
      "metadata": {
        "id": "cIWHgP7EulOV"
      }
    },
    {
      "cell_type": "code",
      "execution_count": null,
      "metadata": {
        "id": "vLbJJjyEuYB8"
      },
      "outputs": [],
      "source": []
    },
    {
      "cell_type": "code",
      "source": [],
      "metadata": {
        "id": "HUqN5uaWvIFV"
      },
      "execution_count": null,
      "outputs": []
    },
    {
      "cell_type": "code",
      "source": [],
      "metadata": {
        "id": "fkosMPFmvKpW"
      },
      "execution_count": null,
      "outputs": []
    },
    {
      "cell_type": "markdown",
      "source": [
        "**問２**下のセルに解答してください"
      ],
      "metadata": {
        "id": "hO_ppEh8ukRP"
      }
    },
    {
      "cell_type": "code",
      "source": [],
      "metadata": {
        "id": "mZpVhBHLui1p"
      },
      "execution_count": null,
      "outputs": []
    },
    {
      "cell_type": "code",
      "source": [],
      "metadata": {
        "id": "G9PWUs8AvIcJ"
      },
      "execution_count": null,
      "outputs": []
    },
    {
      "cell_type": "code",
      "source": [],
      "metadata": {
        "id": "2xRgM2zXvLFO"
      },
      "execution_count": null,
      "outputs": []
    },
    {
      "cell_type": "markdown",
      "source": [
        "**問３**下のセルに解答してください"
      ],
      "metadata": {
        "id": "LH3Gh14LuzIG"
      }
    },
    {
      "cell_type": "code",
      "source": [],
      "metadata": {
        "id": "gJWSTWK2uiqC"
      },
      "execution_count": null,
      "outputs": []
    },
    {
      "cell_type": "code",
      "source": [],
      "metadata": {
        "id": "P3Emxw47vIxz"
      },
      "execution_count": null,
      "outputs": []
    },
    {
      "cell_type": "code",
      "source": [],
      "metadata": {
        "id": "8G8kNg7AvLi6"
      },
      "execution_count": null,
      "outputs": []
    },
    {
      "cell_type": "markdown",
      "source": [
        "**問４**下のセルに解答してください`"
      ],
      "metadata": {
        "id": "1UwL1L6ou1b6"
      }
    },
    {
      "cell_type": "code",
      "source": [],
      "metadata": {
        "id": "rhIiDlTHu3Ri"
      },
      "execution_count": null,
      "outputs": []
    },
    {
      "cell_type": "code",
      "source": [],
      "metadata": {
        "id": "uM2aFfxpvJJs"
      },
      "execution_count": null,
      "outputs": []
    },
    {
      "cell_type": "code",
      "source": [],
      "metadata": {
        "id": "rnOH9W2ovL5A"
      },
      "execution_count": null,
      "outputs": []
    },
    {
      "cell_type": "markdown",
      "source": [
        "**問5**下のセルに解答してください"
      ],
      "metadata": {
        "id": "0r-5e6siNmGT"
      }
    },
    {
      "cell_type": "code",
      "source": [],
      "metadata": {
        "id": "zuvNRqJRNlzv"
      },
      "execution_count": null,
      "outputs": []
    },
    {
      "cell_type": "code",
      "source": [],
      "metadata": {
        "id": "Dwhuim0aNnMt"
      },
      "execution_count": null,
      "outputs": []
    },
    {
      "cell_type": "code",
      "source": [],
      "metadata": {
        "id": "_fchS9LjNnJ5"
      },
      "execution_count": null,
      "outputs": []
    },
    {
      "cell_type": "markdown",
      "source": [
        "**問6**下のセルに解答してください"
      ],
      "metadata": {
        "id": "JL8e52EvNoRl"
      }
    },
    {
      "cell_type": "code",
      "source": [],
      "metadata": {
        "id": "2S5_NBz-NqMS"
      },
      "execution_count": null,
      "outputs": []
    },
    {
      "cell_type": "code",
      "source": [],
      "metadata": {
        "id": "kWSOshOcNqIw"
      },
      "execution_count": null,
      "outputs": []
    },
    {
      "cell_type": "code",
      "source": [],
      "metadata": {
        "id": "mhMSisbcNqFo"
      },
      "execution_count": null,
      "outputs": []
    },
    {
      "cell_type": "markdown",
      "source": [
        "**問7**下のセルに解答してください"
      ],
      "metadata": {
        "id": "9wIS5NCSNqhK"
      }
    },
    {
      "cell_type": "code",
      "source": [],
      "metadata": {
        "id": "xcZMpCBhN4wi"
      },
      "execution_count": null,
      "outputs": []
    },
    {
      "cell_type": "code",
      "source": [],
      "metadata": {
        "id": "Ddez0HHxN4t4"
      },
      "execution_count": null,
      "outputs": []
    },
    {
      "cell_type": "code",
      "source": [],
      "metadata": {
        "id": "Y_iL9Z93N4ri"
      },
      "execution_count": null,
      "outputs": []
    }
  ]
}