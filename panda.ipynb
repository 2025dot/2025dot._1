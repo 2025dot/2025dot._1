{
 "cells": [
  {
   "cell_type": "code",
   "execution_count": 1,
   "id": "3d020fba",
   "metadata": {},
   "outputs": [],
   "source": [
    "import pandas as pd\n",
    "import numpy as np"
   ]
  },
  {
   "cell_type": "code",
   "execution_count": 5,
   "id": "cc05064f",
   "metadata": {},
   "outputs": [],
   "source": [
    "num_data = pd.read_csv(\"newly_confirmed_cases_daily.csv\")"
   ]
  },
  {
   "cell_type": "code",
   "execution_count": 6,
   "id": "4bd481cd",
   "metadata": {},
   "outputs": [
    {
     "name": "stdout",
     "output_type": "stream",
     "text": [
      "<class 'pandas.core.frame.DataFrame'>\n"
     ]
    }
   ],
   "source": [
    "print(type(num_data))"
   ]
  },
  {
   "cell_type": "code",
   "execution_count": 7,
   "id": "6653f8c9",
   "metadata": {},
   "outputs": [
    {
     "data": {
      "text/html": [
       "<div>\n",
       "<style scoped>\n",
       "    .dataframe tbody tr th:only-of-type {\n",
       "        vertical-align: middle;\n",
       "    }\n",
       "\n",
       "    .dataframe tbody tr th {\n",
       "        vertical-align: top;\n",
       "    }\n",
       "\n",
       "    .dataframe thead th {\n",
       "        text-align: right;\n",
       "    }\n",
       "</style>\n",
       "<table border=\"1\" class=\"dataframe\">\n",
       "  <thead>\n",
       "    <tr style=\"text-align: right;\">\n",
       "      <th></th>\n",
       "      <th>Date</th>\n",
       "      <th>ALL</th>\n",
       "      <th>Hokkaido</th>\n",
       "      <th>Aomori</th>\n",
       "      <th>Iwate</th>\n",
       "      <th>Miyagi</th>\n",
       "      <th>Akita</th>\n",
       "      <th>Yamagata</th>\n",
       "      <th>Fukushima</th>\n",
       "      <th>Ibaraki</th>\n",
       "      <th>...</th>\n",
       "      <th>Ehime</th>\n",
       "      <th>Kochi</th>\n",
       "      <th>Fukuoka</th>\n",
       "      <th>Saga</th>\n",
       "      <th>Nagasaki</th>\n",
       "      <th>Kumamoto</th>\n",
       "      <th>Oita</th>\n",
       "      <th>Miyazaki</th>\n",
       "      <th>Kagoshima</th>\n",
       "      <th>Okinawa</th>\n",
       "    </tr>\n",
       "  </thead>\n",
       "  <tbody>\n",
       "    <tr>\n",
       "      <th>0</th>\n",
       "      <td>2020/1/16</td>\n",
       "      <td>1</td>\n",
       "      <td>0</td>\n",
       "      <td>0</td>\n",
       "      <td>0</td>\n",
       "      <td>0</td>\n",
       "      <td>0</td>\n",
       "      <td>0</td>\n",
       "      <td>0</td>\n",
       "      <td>0</td>\n",
       "      <td>...</td>\n",
       "      <td>0</td>\n",
       "      <td>0</td>\n",
       "      <td>0</td>\n",
       "      <td>0</td>\n",
       "      <td>0</td>\n",
       "      <td>0</td>\n",
       "      <td>0</td>\n",
       "      <td>0</td>\n",
       "      <td>0</td>\n",
       "      <td>0</td>\n",
       "    </tr>\n",
       "    <tr>\n",
       "      <th>1</th>\n",
       "      <td>2020/1/17</td>\n",
       "      <td>0</td>\n",
       "      <td>0</td>\n",
       "      <td>0</td>\n",
       "      <td>0</td>\n",
       "      <td>0</td>\n",
       "      <td>0</td>\n",
       "      <td>0</td>\n",
       "      <td>0</td>\n",
       "      <td>0</td>\n",
       "      <td>...</td>\n",
       "      <td>0</td>\n",
       "      <td>0</td>\n",
       "      <td>0</td>\n",
       "      <td>0</td>\n",
       "      <td>0</td>\n",
       "      <td>0</td>\n",
       "      <td>0</td>\n",
       "      <td>0</td>\n",
       "      <td>0</td>\n",
       "      <td>0</td>\n",
       "    </tr>\n",
       "    <tr>\n",
       "      <th>2</th>\n",
       "      <td>2020/1/18</td>\n",
       "      <td>0</td>\n",
       "      <td>0</td>\n",
       "      <td>0</td>\n",
       "      <td>0</td>\n",
       "      <td>0</td>\n",
       "      <td>0</td>\n",
       "      <td>0</td>\n",
       "      <td>0</td>\n",
       "      <td>0</td>\n",
       "      <td>...</td>\n",
       "      <td>0</td>\n",
       "      <td>0</td>\n",
       "      <td>0</td>\n",
       "      <td>0</td>\n",
       "      <td>0</td>\n",
       "      <td>0</td>\n",
       "      <td>0</td>\n",
       "      <td>0</td>\n",
       "      <td>0</td>\n",
       "      <td>0</td>\n",
       "    </tr>\n",
       "    <tr>\n",
       "      <th>3</th>\n",
       "      <td>2020/1/19</td>\n",
       "      <td>0</td>\n",
       "      <td>0</td>\n",
       "      <td>0</td>\n",
       "      <td>0</td>\n",
       "      <td>0</td>\n",
       "      <td>0</td>\n",
       "      <td>0</td>\n",
       "      <td>0</td>\n",
       "      <td>0</td>\n",
       "      <td>...</td>\n",
       "      <td>0</td>\n",
       "      <td>0</td>\n",
       "      <td>0</td>\n",
       "      <td>0</td>\n",
       "      <td>0</td>\n",
       "      <td>0</td>\n",
       "      <td>0</td>\n",
       "      <td>0</td>\n",
       "      <td>0</td>\n",
       "      <td>0</td>\n",
       "    </tr>\n",
       "    <tr>\n",
       "      <th>4</th>\n",
       "      <td>2020/1/20</td>\n",
       "      <td>0</td>\n",
       "      <td>0</td>\n",
       "      <td>0</td>\n",
       "      <td>0</td>\n",
       "      <td>0</td>\n",
       "      <td>0</td>\n",
       "      <td>0</td>\n",
       "      <td>0</td>\n",
       "      <td>0</td>\n",
       "      <td>...</td>\n",
       "      <td>0</td>\n",
       "      <td>0</td>\n",
       "      <td>0</td>\n",
       "      <td>0</td>\n",
       "      <td>0</td>\n",
       "      <td>0</td>\n",
       "      <td>0</td>\n",
       "      <td>0</td>\n",
       "      <td>0</td>\n",
       "      <td>0</td>\n",
       "    </tr>\n",
       "  </tbody>\n",
       "</table>\n",
       "<p>5 rows × 49 columns</p>\n",
       "</div>"
      ],
      "text/plain": [
       "        Date  ALL  Hokkaido  Aomori  Iwate  Miyagi  Akita  Yamagata  \\\n",
       "0  2020/1/16    1         0       0      0       0      0         0   \n",
       "1  2020/1/17    0         0       0      0       0      0         0   \n",
       "2  2020/1/18    0         0       0      0       0      0         0   \n",
       "3  2020/1/19    0         0       0      0       0      0         0   \n",
       "4  2020/1/20    0         0       0      0       0      0         0   \n",
       "\n",
       "   Fukushima  Ibaraki  ...  Ehime  Kochi  Fukuoka  Saga  Nagasaki  Kumamoto  \\\n",
       "0          0        0  ...      0      0        0     0         0         0   \n",
       "1          0        0  ...      0      0        0     0         0         0   \n",
       "2          0        0  ...      0      0        0     0         0         0   \n",
       "3          0        0  ...      0      0        0     0         0         0   \n",
       "4          0        0  ...      0      0        0     0         0         0   \n",
       "\n",
       "   Oita  Miyazaki  Kagoshima  Okinawa  \n",
       "0     0         0          0        0  \n",
       "1     0         0          0        0  \n",
       "2     0         0          0        0  \n",
       "3     0         0          0        0  \n",
       "4     0         0          0        0  \n",
       "\n",
       "[5 rows x 49 columns]"
      ]
     },
     "execution_count": 7,
     "metadata": {},
     "output_type": "execute_result"
    }
   ],
   "source": [
    "num_data.head()"
   ]
  },
  {
   "cell_type": "code",
   "execution_count": 10,
   "id": "053246e3",
   "metadata": {},
   "outputs": [
    {
     "data": {
      "text/plain": [
       "0"
      ]
     },
     "execution_count": 10,
     "metadata": {},
     "output_type": "execute_result"
    }
   ],
   "source": [
    "num_data.iloc[0, 26]"
   ]
  },
  {
   "cell_type": "code",
   "execution_count": 14,
   "id": "45b28882",
   "metadata": {},
   "outputs": [
    {
     "data": {
      "text/html": [
       "<div>\n",
       "<style scoped>\n",
       "    .dataframe tbody tr th:only-of-type {\n",
       "        vertical-align: middle;\n",
       "    }\n",
       "\n",
       "    .dataframe tbody tr th {\n",
       "        vertical-align: top;\n",
       "    }\n",
       "\n",
       "    .dataframe thead th {\n",
       "        text-align: right;\n",
       "    }\n",
       "</style>\n",
       "<table border=\"1\" class=\"dataframe\">\n",
       "  <thead>\n",
       "    <tr style=\"text-align: right;\">\n",
       "      <th></th>\n",
       "      <th>Date</th>\n",
       "      <th>ALL</th>\n",
       "      <th>Hokkaido</th>\n",
       "      <th>Aomori</th>\n",
       "      <th>Iwate</th>\n",
       "      <th>Miyagi</th>\n",
       "      <th>Akita</th>\n",
       "      <th>Yamagata</th>\n",
       "      <th>Fukushima</th>\n",
       "      <th>Ibaraki</th>\n",
       "      <th>...</th>\n",
       "      <th>Tokyo</th>\n",
       "      <th>Kanagawa</th>\n",
       "      <th>Niigata</th>\n",
       "      <th>Toyama</th>\n",
       "      <th>Ishikawa</th>\n",
       "      <th>Fukui</th>\n",
       "      <th>Yamanashi</th>\n",
       "      <th>Nagano</th>\n",
       "      <th>Gifu</th>\n",
       "      <th>Shizuoka</th>\n",
       "    </tr>\n",
       "  </thead>\n",
       "  <tbody>\n",
       "    <tr>\n",
       "      <th>0</th>\n",
       "      <td>2020/1/16</td>\n",
       "      <td>1</td>\n",
       "      <td>0</td>\n",
       "      <td>0</td>\n",
       "      <td>0</td>\n",
       "      <td>0</td>\n",
       "      <td>0</td>\n",
       "      <td>0</td>\n",
       "      <td>0</td>\n",
       "      <td>0</td>\n",
       "      <td>...</td>\n",
       "      <td>0</td>\n",
       "      <td>1</td>\n",
       "      <td>0</td>\n",
       "      <td>0</td>\n",
       "      <td>0</td>\n",
       "      <td>0</td>\n",
       "      <td>0</td>\n",
       "      <td>0</td>\n",
       "      <td>0</td>\n",
       "      <td>0</td>\n",
       "    </tr>\n",
       "  </tbody>\n",
       "</table>\n",
       "<p>1 rows × 24 columns</p>\n",
       "</div>"
      ],
      "text/plain": [
       "        Date  ALL  Hokkaido  Aomori  Iwate  Miyagi  Akita  Yamagata  \\\n",
       "0  2020/1/16    1         0       0      0       0      0         0   \n",
       "\n",
       "   Fukushima  Ibaraki  ...  Tokyo  Kanagawa  Niigata  Toyama  Ishikawa  Fukui  \\\n",
       "0          0        0  ...      0         1        0       0         0      0   \n",
       "\n",
       "   Yamanashi  Nagano  Gifu  Shizuoka  \n",
       "0          0       0     0         0  \n",
       "\n",
       "[1 rows x 24 columns]"
      ]
     },
     "execution_count": 14,
     "metadata": {},
     "output_type": "execute_result"
    }
   ],
   "source": [
    "num_data.iloc[0:1, 0:24] "
   ]
  },
  {
   "cell_type": "code",
   "execution_count": 19,
   "id": "63c9477b",
   "metadata": {},
   "outputs": [
    {
     "data": {
      "text/plain": [
       "0    1\n",
       "1    0\n",
       "2    0\n",
       "3    0\n",
       "4    0\n",
       "Name: Kanagawa, dtype: int64"
      ]
     },
     "execution_count": 19,
     "metadata": {},
     "output_type": "execute_result"
    }
   ],
   "source": [
    "num_data.loc[0:4, \"Kanagawa\"]"
   ]
  },
  {
   "cell_type": "code",
   "execution_count": 24,
   "id": "fc70a605",
   "metadata": {},
   "outputs": [
    {
     "data": {
      "text/html": [
       "<div>\n",
       "<style scoped>\n",
       "    .dataframe tbody tr th:only-of-type {\n",
       "        vertical-align: middle;\n",
       "    }\n",
       "\n",
       "    .dataframe tbody tr th {\n",
       "        vertical-align: top;\n",
       "    }\n",
       "\n",
       "    .dataframe thead th {\n",
       "        text-align: right;\n",
       "    }\n",
       "</style>\n",
       "<table border=\"1\" class=\"dataframe\">\n",
       "  <thead>\n",
       "    <tr style=\"text-align: right;\">\n",
       "      <th></th>\n",
       "      <th>Date</th>\n",
       "      <th>ALL</th>\n",
       "      <th>Hokkaido</th>\n",
       "      <th>Aomori</th>\n",
       "      <th>Iwate</th>\n",
       "      <th>Miyagi</th>\n",
       "      <th>Akita</th>\n",
       "      <th>Yamagata</th>\n",
       "      <th>Fukushima</th>\n",
       "      <th>Ibaraki</th>\n",
       "      <th>...</th>\n",
       "      <th>Ehime</th>\n",
       "      <th>Kochi</th>\n",
       "      <th>Fukuoka</th>\n",
       "      <th>Saga</th>\n",
       "      <th>Nagasaki</th>\n",
       "      <th>Kumamoto</th>\n",
       "      <th>Oita</th>\n",
       "      <th>Miyazaki</th>\n",
       "      <th>Kagoshima</th>\n",
       "      <th>Okinawa</th>\n",
       "    </tr>\n",
       "  </thead>\n",
       "  <tbody>\n",
       "    <tr>\n",
       "      <th>20</th>\n",
       "      <td>2020/2/5</td>\n",
       "      <td>2</td>\n",
       "      <td>0</td>\n",
       "      <td>0</td>\n",
       "      <td>0</td>\n",
       "      <td>0</td>\n",
       "      <td>0</td>\n",
       "      <td>0</td>\n",
       "      <td>0</td>\n",
       "      <td>0</td>\n",
       "      <td>...</td>\n",
       "      <td>0</td>\n",
       "      <td>0</td>\n",
       "      <td>0</td>\n",
       "      <td>0</td>\n",
       "      <td>0</td>\n",
       "      <td>0</td>\n",
       "      <td>0</td>\n",
       "      <td>0</td>\n",
       "      <td>0</td>\n",
       "      <td>0</td>\n",
       "    </tr>\n",
       "    <tr>\n",
       "      <th>26</th>\n",
       "      <td>2020/2/11</td>\n",
       "      <td>2</td>\n",
       "      <td>0</td>\n",
       "      <td>0</td>\n",
       "      <td>0</td>\n",
       "      <td>0</td>\n",
       "      <td>0</td>\n",
       "      <td>0</td>\n",
       "      <td>0</td>\n",
       "      <td>0</td>\n",
       "      <td>...</td>\n",
       "      <td>0</td>\n",
       "      <td>0</td>\n",
       "      <td>0</td>\n",
       "      <td>0</td>\n",
       "      <td>0</td>\n",
       "      <td>0</td>\n",
       "      <td>0</td>\n",
       "      <td>0</td>\n",
       "      <td>0</td>\n",
       "      <td>0</td>\n",
       "    </tr>\n",
       "  </tbody>\n",
       "</table>\n",
       "<p>2 rows × 49 columns</p>\n",
       "</div>"
      ],
      "text/plain": [
       "         Date  ALL  Hokkaido  Aomori  Iwate  Miyagi  Akita  Yamagata  \\\n",
       "20   2020/2/5    2         0       0      0       0      0         0   \n",
       "26  2020/2/11    2         0       0      0       0      0         0   \n",
       "\n",
       "    Fukushima  Ibaraki  ...  Ehime  Kochi  Fukuoka  Saga  Nagasaki  Kumamoto  \\\n",
       "20          0        0  ...      0      0        0     0         0         0   \n",
       "26          0        0  ...      0      0        0     0         0         0   \n",
       "\n",
       "    Oita  Miyazaki  Kagoshima  Okinawa  \n",
       "20     0         0          0        0  \n",
       "26     0         0          0        0  \n",
       "\n",
       "[2 rows x 49 columns]"
      ]
     },
     "execution_count": 24,
     "metadata": {},
     "output_type": "execute_result"
    }
   ],
   "source": [
    "num_data.query(\"ALL == 2\")"
   ]
  },
  {
   "cell_type": "code",
   "execution_count": 26,
   "id": "bc579c8e",
   "metadata": {},
   "outputs": [
    {
     "name": "stdout",
     "output_type": "stream",
     "text": [
      "<class 'numpy.ndarray'>\n",
      "[['2020/1/16' 1 0 ... 0 0 0]\n",
      " ['2020/1/17' 0 0 ... 0 0 0]\n",
      " ['2020/1/18' 0 0 ... 0 0 0]\n",
      " ...\n",
      " ['2023/5/6' 6257 446 ... 38 29 125]\n",
      " ['2023/5/7' 14344 658 ... 95 168 254]\n",
      " ['2023/5/8' 9489 577 ... 47 86 150]]\n"
     ]
    }
   ],
   "source": [
    "nd_num_data = num_data.values\n",
    "print(type(nd_num_data))\n",
    "print(nd_num_data)"
   ]
  },
  {
   "cell_type": "code",
   "execution_count": 29,
   "id": "3f8d622f",
   "metadata": {},
   "outputs": [
    {
     "name": "stdout",
     "output_type": "stream",
     "text": [
      "[[1 0 0 ... 0 0 0]\n",
      " [0 0 0 ... 0 0 0]\n",
      " [0 0 0 ... 0 0 0]\n",
      " ...\n",
      " [6257 446 61 ... 38 29 125]\n",
      " [14344 658 127 ... 95 168 254]\n",
      " [9489 577 87 ... 47 86 150]]\n"
     ]
    }
   ],
   "source": [
    "c = np.delete(nd_num_data, 0, 1)\n",
    "print(c)"
   ]
  },
  {
   "cell_type": "code",
   "execution_count": 34,
   "id": "c14427b6",
   "metadata": {},
   "outputs": [
    {
     "data": {
      "text/plain": [
       "array([1, 0, 0, ..., 6257, 14344, 9489], dtype=object)"
      ]
     },
     "execution_count": 34,
     "metadata": {},
     "output_type": "execute_result"
    }
   ],
   "source": [
    "d = nd_num_data[:,1]\n",
    "d"
   ]
  },
  {
   "cell_type": "code",
   "execution_count": 38,
   "id": "a603fbb0",
   "metadata": {},
   "outputs": [
    {
     "name": "stdout",
     "output_type": "stream",
     "text": [
      "['2020/3/20' 49 1 0 0 0 0 0 0 0 1 0 3 5 11 2 1 0 1 0 0 0 0 0 5 0 0 1 4 8 0\n",
      " 0 0 0 0 1 0 0 0 0 0 0 0 0 0 5 0 0 0]\n"
     ]
    }
   ],
   "source": [
    "e = nd_num_data[64,:]\n",
    "print(e)"
   ]
  },
  {
   "cell_type": "code",
   "execution_count": 44,
   "id": "b711359f",
   "metadata": {},
   "outputs": [
    {
     "name": "stdout",
     "output_type": "stream",
     "text": [
      "[['2020/3/20' 49 1 ... 0 0 0]\n",
      " ['2020/1/16' 1 0 ... 0 0 0]\n",
      " ['2020/1/17' 0 0 ... 0 0 0]\n",
      " ...\n",
      " ['2023/5/6' 6257 446 ... 38 29 125]\n",
      " ['2023/5/7' 14344 658 ... 95 168 254]\n",
      " ['2023/5/8' 9489 577 ... 47 86 150]]\n"
     ]
    }
   ],
   "source": [
    "f = np.insert(nd_num_data,0 , e, 0)\n",
    "print(f)"
   ]
  },
  {
   "cell_type": "code",
   "execution_count": null,
   "id": "b4fcc69f",
   "metadata": {},
   "outputs": [],
   "source": []
  }
 ],
 "metadata": {
  "kernelspec": {
   "display_name": "Python 3 (ipykernel)",
   "language": "python",
   "name": "python3"
  },
  "language_info": {
   "codemirror_mode": {
    "name": "ipython",
    "version": 3
   },
   "file_extension": ".py",
   "mimetype": "text/x-python",
   "name": "python",
   "nbconvert_exporter": "python",
   "pygments_lexer": "ipython3",
   "version": "3.11.4"
  }
 },
 "nbformat": 4,
 "nbformat_minor": 5
}
