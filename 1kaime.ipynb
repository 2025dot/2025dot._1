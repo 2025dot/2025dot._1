{
  "nbformat": 4,
  "nbformat_minor": 0,
  "metadata": {
    "colab": {
      "provenance": []
    },
    "kernelspec": {
      "name": "python3",
      "display_name": "Python 3"
    },
    "language_info": {
      "name": "python"
    }
  },
  "cells": [
    {
      "cell_type": "markdown",
      "source": [
        "**画像解析勉強会第1回**\n",
        "\n",
        "プログラミングの基礎と画像の読み込み"
      ],
      "metadata": {
        "id": "dm7n7rjX_BEP"
      }
    },
    {
      "cell_type": "markdown",
      "source": [
        "演算\n",
        "\n",
        "最後の行の値を返してくれる"
      ],
      "metadata": {
        "id": "vnp-k-lg_dVH"
      }
    },
    {
      "cell_type": "code",
      "execution_count": null,
      "metadata": {
        "id": "41XmSOKjOcQW"
      },
      "outputs": [],
      "source": [
        "#足し算\n",
        "3.2 + 4.2"
      ]
    },
    {
      "cell_type": "code",
      "source": [
        "#引き算\n",
        "3.2 - 4.2"
      ],
      "metadata": {
        "id": "WwKzJuYr_lqJ"
      },
      "execution_count": null,
      "outputs": []
    },
    {
      "cell_type": "code",
      "source": [
        "#かけ算\n",
        "3.2 * 4.2"
      ],
      "metadata": {
        "id": "zFUmMkxB_jn5"
      },
      "execution_count": null,
      "outputs": []
    },
    {
      "cell_type": "code",
      "source": [
        "#割り算\n",
        "3.2 / 4.2"
      ],
      "metadata": {
        "id": "eZHAM_ki_lXB"
      },
      "execution_count": null,
      "outputs": []
    },
    {
      "cell_type": "code",
      "source": [
        "#整数同士の割り算(切り捨て)\n",
        "100//11"
      ],
      "metadata": {
        "id": "4gI09gu41SO3"
      },
      "execution_count": null,
      "outputs": []
    },
    {
      "cell_type": "code",
      "source": [
        "#指数計算\n",
        "3 ** 2"
      ],
      "metadata": {
        "id": "tzSnoUg9_oV6"
      },
      "execution_count": null,
      "outputs": []
    },
    {
      "cell_type": "code",
      "source": [
        "#4-4の結果しか表示されない(一番下の行の計算のみ結果を表示)\n",
        "4 + 4\n",
        "4 - 4"
      ],
      "metadata": {
        "id": "I1NKow_lSALK"
      },
      "execution_count": null,
      "outputs": []
    },
    {
      "cell_type": "markdown",
      "source": [
        "変数\n",
        "\n",
        "自分で決めた名前を左辺に持ってくると、右辺の値、リストなど色々をその名前で保存できる\n",
        "\n",
        "以降その名前はその保存された値、リストなどをあらわす\n",
        "\n",
        "\n",
        "もう一度同じ左辺に同じ名前を書くと右辺の値に更新される"
      ],
      "metadata": {
        "id": "M_4m52W5QyTV"
      }
    },
    {
      "cell_type": "code",
      "source": [
        "#下の式ではappleという名前で保存した値を使う\n",
        "apple = 3\n",
        "apple + apple"
      ],
      "metadata": {
        "id": "FWsxYzqvQuQw"
      },
      "execution_count": null,
      "outputs": []
    },
    {
      "cell_type": "code",
      "source": [
        "apple"
      ],
      "metadata": {
        "id": "-ZK816w51vLJ"
      },
      "execution_count": null,
      "outputs": []
    },
    {
      "cell_type": "code",
      "source": [
        "apple = apple + 1\n",
        "apple"
      ],
      "metadata": {
        "id": "45YcMjNw1xMD"
      },
      "execution_count": null,
      "outputs": []
    },
    {
      "cell_type": "code",
      "source": [
        "#bananaという名前で右辺の量を保存\n",
        "banana = apple ** 3\n",
        "banana"
      ],
      "metadata": {
        "id": "LoCnH1qbRK7S"
      },
      "execution_count": null,
      "outputs": []
    },
    {
      "cell_type": "code",
      "source": [
        "banana - apple"
      ],
      "metadata": {
        "id": "-OKgk5r91Orh"
      },
      "execution_count": null,
      "outputs": []
    },
    {
      "cell_type": "markdown",
      "source": [
        "リスト\n",
        "数える時は０から"
      ],
      "metadata": {
        "id": "XfhoM3PzROV0"
      }
    },
    {
      "cell_type": "code",
      "source": [
        "list_shikoku = [\"ehime\",\"kagawa\",\"kochi\",\"tokushima\"]"
      ],
      "metadata": {
        "id": "3mQJcRXdRP6E"
      },
      "execution_count": null,
      "outputs": []
    },
    {
      "cell_type": "code",
      "source": [
        "#要素数\n",
        "len(list_shikoku)"
      ],
      "metadata": {
        "id": "oR3geQM8SJDY"
      },
      "execution_count": null,
      "outputs": []
    },
    {
      "cell_type": "code",
      "source": [
        "list_shikoku[1]"
      ],
      "metadata": {
        "id": "XqfDuTh0SQA8"
      },
      "execution_count": null,
      "outputs": []
    },
    {
      "cell_type": "code",
      "source": [
        "list_odd = [1,3,5,7,9,11]"
      ],
      "metadata": {
        "id": "SACN4JPGRor-"
      },
      "execution_count": null,
      "outputs": []
    },
    {
      "cell_type": "code",
      "source": [
        "#リストの各要素同士の足し算できない\n",
        "list_odd + list_odd"
      ],
      "metadata": {
        "id": "GxuwJqg-SH-S"
      },
      "execution_count": null,
      "outputs": []
    },
    {
      "cell_type": "markdown",
      "source": [
        "課題\n",
        "0 ~ 10までの偶数だけのリストを作ってlist_evenとしてください。list_even[4]?"
      ],
      "metadata": {
        "id": "zX45w1tH4M6A"
      }
    },
    {
      "cell_type": "markdown",
      "source": [
        "Numpy.array\n",
        "\n",
        "リストのの進化版"
      ],
      "metadata": {
        "id": "-omFwfPTSZcg"
      }
    },
    {
      "cell_type": "code",
      "source": [
        "#numpyをインポートしてarrayを使えるように\n",
        "import numpy as np"
      ],
      "metadata": {
        "id": "Jr-XEugeSZKM"
      },
      "execution_count": null,
      "outputs": []
    },
    {
      "cell_type": "code",
      "source": [
        "#リストをnp.arrayでくくると作れる\n",
        "odd_array = np.array(list_odd)"
      ],
      "metadata": {
        "id": "Mizbj8lZS6K1"
      },
      "execution_count": null,
      "outputs": []
    },
    {
      "cell_type": "code",
      "source": [
        "#各要素の足し算\n",
        "odd_array + odd_array"
      ],
      "metadata": {
        "id": "vjDQQz9ITJPT"
      },
      "execution_count": null,
      "outputs": []
    },
    {
      "cell_type": "code",
      "source": [
        "#各要素の掛け算\n",
        "odd_array * odd_array"
      ],
      "metadata": {
        "id": "Z_wejKm6TSCX"
      },
      "execution_count": null,
      "outputs": []
    },
    {
      "cell_type": "code",
      "source": [
        "#各要素に+1\n",
        "odd_array + 1"
      ],
      "metadata": {
        "id": "D0ZD5mrGTU61"
      },
      "execution_count": null,
      "outputs": []
    },
    {
      "cell_type": "code",
      "source": [
        "#各要素を2倍\n",
        "odd_array * 2"
      ],
      "metadata": {
        "id": "EV0AL4gmTZeO"
      },
      "execution_count": null,
      "outputs": []
    },
    {
      "cell_type": "code",
      "source": [
        "#各要素を二乗\n",
        "odd_array ** 2"
      ],
      "metadata": {
        "id": "qfSTCmTqTdiF"
      },
      "execution_count": null,
      "outputs": []
    },
    {
      "cell_type": "markdown",
      "source": [
        "画像は2次元なので2次元のarrayを扱いましょう"
      ],
      "metadata": {
        "id": "ASxWPFyITylY"
      }
    },
    {
      "cell_type": "code",
      "source": [
        "#6個の要素を2行3列に変換する方法\n",
        "array_2d =  odd_array.reshape((2,3))\n",
        "array_2d"
      ],
      "metadata": {
        "id": "9tlk7RPATh-9"
      },
      "execution_count": null,
      "outputs": []
    },
    {
      "cell_type": "code",
      "source": [
        "#値の参照0番目の行の2番目の要素\n",
        "array_2d[0,2]"
      ],
      "metadata": {
        "id": "jVZ4GOmNVJcz"
      },
      "execution_count": null,
      "outputs": []
    },
    {
      "cell_type": "markdown",
      "source": [
        "値の参照の練習"
      ],
      "metadata": {
        "id": "R0aSRjYxWRli"
      }
    },
    {
      "cell_type": "code",
      "source": [
        "random_array = np.random.randint(0,100,25).reshape((5,5))\n",
        "random_array"
      ],
      "metadata": {
        "id": "S-nt8rvRWTk_"
      },
      "execution_count": null,
      "outputs": []
    },
    {
      "cell_type": "markdown",
      "source": [
        "***画像には大きく2種類あります***\n",
        "\n",
        "1つ目は白黒画像で1つのマスがが1つの数字を持ってます。\n",
        "\n",
        "2つ目はいわゆる普通の写真で1つのマスが3つの数字を持ってます。0つ目が赤、1つ目が緑、2つ目が青に対応しています。（光の三原色）\n",
        "\n",
        "3次元のarrayも出てきますが2次元のarrayで各点で3つの数字を持っていると捉えてもいいでしょう。"
      ],
      "metadata": {
        "id": "YD5VUBUEWr7_"
      }
    },
    {
      "cell_type": "code",
      "source": [
        "#3次元arrayの練習\n",
        "array_3d = np.random.randint(0,100,27).reshape((3,3,3))\n",
        "array_3d"
      ],
      "metadata": {
        "id": "e7WFKt4WXQvr"
      },
      "execution_count": null,
      "outputs": []
    },
    {
      "cell_type": "code",
      "source": [
        "#0番目の数字(赤に対応)のarray\n",
        "array_3d[:,:,0]"
      ],
      "metadata": {
        "id": "P4gX8QoYXwpv"
      },
      "execution_count": null,
      "outputs": []
    },
    {
      "cell_type": "markdown",
      "source": [
        "画像やグラフの表示\n",
        "\n",
        "numpyという数字の組に対して画像が対応しています。\n",
        "\n",
        "2d_arrayでは白黒画像に、数字が大きいほど白に近くなります。\n",
        "\n",
        "3d_arrayでは色のついた画像になります。"
      ],
      "metadata": {
        "id": "Uf2YrxDWYaPd"
      }
    },
    {
      "cell_type": "code",
      "source": [
        "#画像を表示するために必要なもの\n",
        "import matplotlib.pyplot as plt"
      ],
      "metadata": {
        "id": "2DFf23OPYXhR"
      },
      "execution_count": null,
      "outputs": []
    },
    {
      "cell_type": "code",
      "source": [
        "#3x3の画像を用意します。ただしランダム\n",
        "color = np.random.randint(0,256,27).reshape((3,3,3))\n",
        "color"
      ],
      "metadata": {
        "id": "QPy7efRGYz0J"
      },
      "execution_count": null,
      "outputs": []
    },
    {
      "cell_type": "code",
      "source": [
        "#上の数字が色に対応しています\n",
        "plt.imshow(color)"
      ],
      "metadata": {
        "id": "gvIUyq-tY2ic"
      },
      "execution_count": null,
      "outputs": []
    },
    {
      "cell_type": "code",
      "source": [
        "#3x3の画像を用意します。ただしランダム\n",
        "blackwhite = np.random.randn(9).reshape(3,3)\n",
        "blackwhite"
      ],
      "metadata": {
        "id": "sJ03IkjtZt2Z"
      },
      "execution_count": null,
      "outputs": []
    },
    {
      "cell_type": "code",
      "source": [
        "#白黒にするには cmap =\"gray\"というおまじないが必要です\n",
        "plt.imshow(blackwhite,cmap=\"gray\")"
      ],
      "metadata": {
        "id": "yalmbRqdZ8sZ"
      },
      "execution_count": null,
      "outputs": []
    },
    {
      "cell_type": "markdown",
      "source": [
        "numpyのデータタイプ(整数か小数か)\n",
        "\n",
        "気をつけなければなりません\n",
        "計算するときは小数で、RGB形式で表示させるときは整数にしてもいいでしょう\n",
        "\n",
        "**読み込む時は整数型**なのでそれをまずは小数型にしましょう。.astype(\"float64\")をお尻につけるだけです\n"
      ],
      "metadata": {
        "id": "5jgkxLyDayNt"
      }
    },
    {
      "cell_type": "code",
      "source": [
        "array_seisu = np.random.randint(0,256,100).reshape((10,10)).astype(\"float64\")\n",
        "array_seisu"
      ],
      "metadata": {
        "id": "8Hqf6AO1E5cK"
      },
      "execution_count": null,
      "outputs": []
    },
    {
      "cell_type": "markdown",
      "source": [
        "画像の読み込み\n",
        "\n",
        "\n",
        "画像をarrayにしてくれるものを用います"
      ],
      "metadata": {
        "id": "hFdU1yo8dgpJ"
      }
    },
    {
      "cell_type": "code",
      "source": [
        "#cv2をインポート\n",
        "import cv2"
      ],
      "metadata": {
        "id": "KT_TxcmYc6cX"
      },
      "execution_count": null,
      "outputs": []
    },
    {
      "cell_type": "markdown",
      "source": [
        "ドライブに画像をアップロードしましょう(左のファイルのところ)"
      ],
      "metadata": {
        "id": "irSvKbShdssq"
      }
    },
    {
      "cell_type": "code",
      "source": [
        "#パスをコピー\n",
        "eisei_path = \"/content/eisei.png\""
      ],
      "metadata": {
        "id": "yiVfoFeBdr0G"
      },
      "execution_count": null,
      "outputs": []
    },
    {
      "cell_type": "markdown",
      "source": [
        "衛星画像の読み込みです\n",
        "\n",
        "基本的にあるバンドのデータを読み込むので白黒画像です"
      ],
      "metadata": {
        "id": "AU7b7d7PFEm5"
      }
    },
    {
      "cell_type": "code",
      "source": [
        "#読み込み　eisei_dataで名前をつけておく 白黒の画像は,cv2.IMREAD_GRAYSCALEを後につける\n",
        "eisei_data = cv2.imread(eisei_path,cv2.IMREAD_GRAYSCALE)"
      ],
      "metadata": {
        "id": "IH-j6wiKDf-O"
      },
      "execution_count": null,
      "outputs": []
    },
    {
      "cell_type": "code",
      "source": [
        "eisei_data"
      ],
      "metadata": {
        "id": "_dVOf1RJD8IF"
      },
      "execution_count": null,
      "outputs": []
    },
    {
      "cell_type": "code",
      "source": [
        "#cmap =\"gray\"がおまじない\n",
        "plt.imshow(eisei_data,cmap=\"gray\")"
      ],
      "metadata": {
        "id": "BeKuI_WQD-yu"
      },
      "execution_count": null,
      "outputs": []
    },
    {
      "cell_type": "markdown",
      "source": [
        "普通の(3つの色付きの画像の読み込み)画像では3次元arrayになります\n",
        "\n",
        "\n",
        "ただしRGBの順番ではなくBGRの順番で読み込まれるので変換します(変な色になります)"
      ],
      "metadata": {
        "id": "ZrSMTraJEFaj"
      }
    },
    {
      "cell_type": "code",
      "source": [
        "mountain_path = \"/content/moutain.jpg\""
      ],
      "metadata": {
        "id": "d2xIcZCSERXZ"
      },
      "execution_count": null,
      "outputs": []
    },
    {
      "cell_type": "code",
      "source": [
        "#BGRのデータ\n",
        "moutain_false = cv2.imread(mountain_path)"
      ],
      "metadata": {
        "id": "rfZkmgDEERK9"
      },
      "execution_count": null,
      "outputs": []
    },
    {
      "cell_type": "code",
      "source": [
        "plt.imshow(moutain_false)"
      ],
      "metadata": {
        "id": "LOP_Jmz73fg3"
      },
      "execution_count": null,
      "outputs": []
    },
    {
      "cell_type": "code",
      "source": [
        "#RGBのデータ\n",
        "RGB_data = cv2.cvtColor(moutain_false,cv2.COLOR_BGR2RGB)"
      ],
      "metadata": {
        "id": "B84t_OI0EqkL"
      },
      "execution_count": null,
      "outputs": []
    },
    {
      "cell_type": "code",
      "source": [
        "plt.imshow(RGB_data)"
      ],
      "metadata": {
        "id": "_apuy04f3jCY"
      },
      "execution_count": null,
      "outputs": []
    },
    {
      "cell_type": "code",
      "source": [
        "RGB_data[10,10]"
      ],
      "metadata": {
        "id": "C7-29m0aFciB"
      },
      "execution_count": null,
      "outputs": []
    },
    {
      "cell_type": "code",
      "source": [
        "plt.imshow(RGB_data[:,:,0],cmap = gray)"
      ],
      "metadata": {
        "id": "jmM7ezOSFgqV"
      },
      "execution_count": null,
      "outputs": []
    },
    {
      "cell_type": "code",
      "source": [
        "#よく使うarray np.zeros\n",
        "zeros = np.zeros((len(RGB_data),len(RGB_data[0],3))).astype(\"float64\")"
      ],
      "metadata": {
        "id": "z61cXERGzTf5"
      },
      "execution_count": null,
      "outputs": []
    }
  ]
}