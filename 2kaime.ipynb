{
  "nbformat": 4,
  "nbformat_minor": 0,
  "metadata": {
    "colab": {
      "provenance": []
    },
    "kernelspec": {
      "name": "python3",
      "display_name": "Python 3"
    },
    "language_info": {
      "name": "python"
    }
  },
  "cells": [
    {
      "cell_type": "code",
      "execution_count": null,
      "metadata": {
        "id": "yD2m4VeIBZA3"
      },
      "outputs": [],
      "source": [
        "#まずは必要なライブラリーをダウンロード\n",
        "import numpy as np\n",
        "import matplotlib.pyplot as plt\n",
        "import cv2"
      ]
    },
    {
      "cell_type": "markdown",
      "source": [
        "バンドと情報の対応　Sentinel-2において\n",
        "\n",
        "バンド2：青\n",
        "\n",
        "バンド3：緑\n",
        "\n",
        "バンド4：赤\n",
        "\n",
        "バンド8：近赤外線\n"
      ],
      "metadata": {
        "id": "MDbcWm2EBxrp"
      }
    },
    {
      "cell_type": "code",
      "source": [
        "#各バンドのパスを取得\n",
        "path_2023_B2 = \"/content/2023_B2.png\"\n",
        "path_2023_B3 = \"/content/2023_B3.png\"\n",
        "path_2023_B4 = \"/content/2023_B4.png\"\n",
        "path_2023_B8 = \"/content/2023_B8.png\""
      ],
      "metadata": {
        "id": "4s02jR1wBnEM"
      },
      "execution_count": null,
      "outputs": []
    },
    {
      "cell_type": "code",
      "source": [
        "#それぞれのデータを読み込んで2次元arrayに\n",
        "data_B2 = cv2.imread(path_2023_B2, cv2.IMREAD_GRAYSCALE).astype(\"float64\")/255\n",
        "data_B3 = cv2.imread(path_2023_B3, cv2.IMREAD_GRAYSCALE).astype(\"float64\")/255\n",
        "data_B4 = cv2.imread(path_2023_B4, cv2.IMREAD_GRAYSCALE).astype(\"float64\")/255\n",
        "data_B8 = cv2.imread(path_2023_B8, cv2.IMREAD_GRAYSCALE).astype(\"float64\")/255"
      ],
      "metadata": {
        "id": "Hne05qSaBs6R"
      },
      "execution_count": null,
      "outputs": []
    },
    {
      "cell_type": "code",
      "source": [
        "#全部のサイズは同じ\n",
        "#バンド2：青色の電磁波の反射の強度のデータ\n",
        "data_B2.shape"
      ],
      "metadata": {
        "id": "AmSlLHCVCY1b",
        "collapsed": true
      },
      "execution_count": null,
      "outputs": []
    },
    {
      "cell_type": "code",
      "source": [
        "#バンド4白黒で表示\n",
        "plt.imshow(data_B4, cmap=\"gray\")\n",
        "#白いところは値が大きく赤色の光を反射しているということ、どこでしょう"
      ],
      "metadata": {
        "id": "UmGwosyKCepq"
      },
      "execution_count": null,
      "outputs": []
    },
    {
      "cell_type": "markdown",
      "source": [
        "True画像の作成"
      ],
      "metadata": {
        "id": "iwR5Wn_0C0rC"
      }
    },
    {
      "cell_type": "code",
      "source": [
        "#3次元arrayの入れ物を作るイメージ：上のshapeを利用\n",
        "#np.zeros()で全てが0のarray\n",
        "True_img = np.zeros((707, 216,3))"
      ],
      "metadata": {
        "id": "tFRhCzz0Ch-7"
      },
      "execution_count": null,
      "outputs": []
    },
    {
      "cell_type": "code",
      "source": [
        "#0番目の住民に赤のデータ、1番目の住民に緑のデータ、2番目の住民に青のデータエオ入れてあげる\n",
        "True_img[:,:,0] = data_B4\n",
        "True_img[:,:,1] = data_B3\n",
        "True_img[:,:,2] = data_B2"
      ],
      "metadata": {
        "id": "lU0lvhnhC_RG"
      },
      "execution_count": null,
      "outputs": []
    },
    {
      "cell_type": "code",
      "source": [
        "# @title\n",
        "#表示\n",
        "plt.imshow(True_img)\n",
        "#軸とか消したい場合\n",
        "plt.axis(\"off\")\n",
        "#タイトルをつける\n",
        "plt.title(\"2023_0714\")"
      ],
      "metadata": {
        "id": "H4DCG7_bDAP0",
        "cellView": "form"
      },
      "execution_count": null,
      "outputs": []
    },
    {
      "cell_type": "code",
      "source": [
        "#γ補正\n",
        "RGB_data = True_img ** (1/2)\n",
        "plt.imshow(RGB_data)"
      ],
      "metadata": {
        "id": "kEPm50akOIZm",
        "collapsed": true
      },
      "execution_count": null,
      "outputs": []
    },
    {
      "cell_type": "markdown",
      "source": [
        "NDVI = $\\frac{Band8-Band4}{Band8 + Band4}$"
      ],
      "metadata": {
        "id": "HTFF9VTqJ-a0"
      }
    },
    {
      "cell_type": "code",
      "source": [
        "#NDVIの計算\n",
        "NDVI = (data_B8 - data_B4) / (data_B8 + data_B4)"
      ],
      "metadata": {
        "id": "2GfCznCADHei"
      },
      "execution_count": null,
      "outputs": []
    },
    {
      "cell_type": "code",
      "source": [
        "plt.imshow(NDVI , cmap =\"gray\", vmin = -1, vmax = 1)\n",
        "plt.axis(\"off\")\n",
        "plt.title(\"NDVI:2023_0714\")"
      ],
      "metadata": {
        "id": "_SCPQU5EKM7C"
      },
      "execution_count": null,
      "outputs": []
    },
    {
      "cell_type": "code",
      "source": [
        "NDWI = (data_B3 - data_B8) / (data_B3 + data_B8)"
      ],
      "metadata": {
        "id": "UNlsO4V0KPNa"
      },
      "execution_count": null,
      "outputs": []
    },
    {
      "cell_type": "code",
      "source": [
        "plt.imshow(NDWI, cmap =\"gray\", vmin = -1, vmax = 1)"
      ],
      "metadata": {
        "id": "0exhDVjiKhcY"
      },
      "execution_count": null,
      "outputs": []
    },
    {
      "cell_type": "code",
      "source": [
        "#ヒストグラムのデータ\n",
        "hist_NDVI, bins_NDVI = np.histogram(NDVI, bins=200)"
      ],
      "metadata": {
        "id": "FVUEFTunKjEU"
      },
      "execution_count": null,
      "outputs": []
    },
    {
      "cell_type": "code",
      "source": [
        "#ヒストグラムの表示：簡単な説明いる\n",
        "plt.plot((bins_NDVI[1:] + bins_NDVI[:-1])/2,hist_NDVI)"
      ],
      "metadata": {
        "id": "YXU8AFSaNhHq"
      },
      "execution_count": null,
      "outputs": []
    },
    {
      "cell_type": "code",
      "source": [
        "#閾値処理して表示\n",
        "plt.imshow(NDVI> 0.2 , cmap = \"gray\")"
      ],
      "metadata": {
        "id": "kfLHEr2GNyFR"
      },
      "execution_count": null,
      "outputs": []
    },
    {
      "cell_type": "code",
      "source": [
        "#閾値処理：条件を設定\n",
        "mask_NDVI = NDVI> 0.2"
      ],
      "metadata": {
        "id": "vq98k0aQN9gv"
      },
      "execution_count": null,
      "outputs": []
    },
    {
      "cell_type": "code",
      "source": [
        "#マスク処理\n",
        "plt.imshow(RGB_data * mask_NDVI[:,:,np.newaxis])"
      ],
      "metadata": {
        "id": "8WNFYXSlOCnu"
      },
      "execution_count": null,
      "outputs": []
    },
    {
      "cell_type": "code",
      "source": [
        "#NDWIでもヒストグラム\n",
        "hist_NDWI, bins_NDWI = np.histogram(NDWI, bins=200)\n",
        "plt.plot((bins_NDWI[1:] + bins_NDWI[:-1])/2,hist_NDWI + 1)"
      ],
      "metadata": {
        "id": "ATq55Tp8NHNZ"
      },
      "execution_count": null,
      "outputs": []
    },
    {
      "cell_type": "code",
      "source": [
        "#閾値処理：条件を設定\n",
        "mask_NDWI = NDWI> -0.1"
      ],
      "metadata": {
        "id": "5vIn-HmVObSx"
      },
      "execution_count": null,
      "outputs": []
    },
    {
      "cell_type": "code",
      "source": [
        "#マスク処理\n",
        "plt.imshow(RGB_data * mask_NDWI[:,:,np.newaxis])"
      ],
      "metadata": {
        "id": "XspXE_tROfm9"
      },
      "execution_count": null,
      "outputs": []
    },
    {
      "cell_type": "code",
      "source": [
        "#γ補正の結果、ヒストグラムの変遷\n",
        "hist_blue_before, bins_blue_before = np.histogram(True_img[:,:,0], bins=200)\n",
        "plt.plot((bins_blue_before[1:] + bins_blue_before[:-1])/2,hist_blue_before + 1)\n",
        "hist_blue_after, bins_blue_after = np.histogram(RGB_data[:,:,0], bins=200)\n",
        "plt.plot((bins_blue_after[1:] + bins_blue_after[:-1])/2,hist_blue_after + 1,color = \"black\", alpha = 0.4)"
      ],
      "metadata": {
        "id": "6BWuA85ZOkeN"
      },
      "execution_count": null,
      "outputs": []
    },
    {
      "cell_type": "code",
      "source": [
        "#閾値処理してピクセルの数を数える\n",
        "np.sum(mask_NDWI)/mask_NDWI.size"
      ],
      "metadata": {
        "id": "0ezlcSr0PW3J"
      },
      "execution_count": null,
      "outputs": []
    },
    {
      "cell_type": "code",
      "source": [
        "#おまけ\n",
        "plt.imshow(RGB_data * (1-(mask_NDWI + mask_NDVI))[:,:,np.newaxis])"
      ],
      "metadata": {
        "id": "j-6WzD0oQVbt"
      },
      "execution_count": null,
      "outputs": []
    }
  ]
}